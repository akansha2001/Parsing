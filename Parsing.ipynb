{
 "cells": [
  {
   "cell_type": "code",
   "execution_count": 1,
   "id": "f47f8a9b",
   "metadata": {},
   "outputs": [],
   "source": [
    "# define node for Tree\n",
    "class NodeT:\n",
    "    def __init__(self,val):\n",
    "        self.val = val\n",
    "        self.c0 = None\n",
    "        self.c1 = None\n",
    "        self.c2 = None\n",
    "#define node for Linked List\n",
    "class NodeLL:\n",
    "    def __init__(self,val):\n",
    "        self.val = val\n",
    "        self.next = None"
   ]
  },
  {
   "cell_type": "code",
   "execution_count": 3,
   "id": "bbbb62dd",
   "metadata": {},
   "outputs": [
    {
     "name": "stdout",
     "output_type": "stream",
     "text": [
      "Rules:\n",
      "S=NP,VP\n",
      "NP=ART,N\n",
      "VP=V,NP\n",
      "V=ate|chased\n",
      "N=rat|cat\n",
      "ART=a|an|the\n",
      "-----------\n",
      "Dictionary for grammar:\n",
      "{'S': [['NP', 'VP']], 'NP': [['ART', 'N']], 'VP': [['V', 'NP']], 'V': [['ate'], ['chased']], 'N': [['rat'], ['cat']], 'ART': [['a'], ['an'], ['the']]}\n",
      "Dictionary for rules:\n",
      "{'S': 1, 'NP': 2, 'VP': 3, 'V': 4, 'N': 5, 'ART': 6}\n"
     ]
    }
   ],
   "source": [
    "# read grammar from text file; store as dictionary of nested lists\n",
    "# outer list: OR operator\n",
    "# inner list: sequence\n",
    "'''\n",
    "= : replace with\n",
    ", : sequence\n",
    "| : OR operator\n",
    "'''\n",
    "\n",
    "# define split parameters\n",
    "rw = '='\n",
    "seq = ','\n",
    "orop = '|'\n",
    "\n",
    "f = open('grammar.txt','r')\n",
    "lines = f.readlines()\n",
    "\n",
    "# dictionary for grammar and rules\n",
    "gram = {}\n",
    "rules = {}\n",
    "c = 1\n",
    "\n",
    "print(\"Rules:\")\n",
    "for line in lines:\n",
    "    \n",
    "    line = line.strip()\n",
    "    print(line)\n",
    "    rule = line.split(rw)\n",
    "    x = rule[0]\n",
    "    y = rule[1]\n",
    "    gram[x] = y.split(orop)\n",
    "    rules[x] = c\n",
    "    c += 1\n",
    "    \n",
    "\n",
    "    for i in range(len(gram[x])):\n",
    "        gram[x][i] = gram[x][i].split(seq)\n",
    "        \n",
    "print('-----------')\n",
    "print(\"Dictionary for grammar:\")\n",
    "print(gram)\n",
    "print(\"Dictionary for rules:\")\n",
    "print(rules)"
   ]
  },
  {
   "cell_type": "code",
   "execution_count": 4,
   "id": "e22765c3",
   "metadata": {},
   "outputs": [],
   "source": [
    "# parsing function\n",
    "def parse(parent,marker):\n",
    "    \n",
    "    if marker == None: # end of parsing\n",
    "        return True,marker\n",
    "    \n",
    "    elif parent.val == marker.val: # match\n",
    "        return True,marker.next\n",
    "    \n",
    "    else: # no match\n",
    "\n",
    "        x = parent.val\n",
    "        \n",
    "        if gram.get(x)!=None: # expandable\n",
    "            \n",
    "            for lis1 in gram[x]:\n",
    "                # expand\n",
    "                if len(lis1)>=1:\n",
    "                    parent.c0 = NodeT(lis1[0])\n",
    "                else:\n",
    "                    parent.c0 = None\n",
    "                    \n",
    "                if len(lis1)>=2:\n",
    "                    parent.c1 = NodeT(lis1[1])\n",
    "                else:\n",
    "                    parent.c1 = None\n",
    "                    \n",
    "                if len(lis1)>=3:\n",
    "                    parent.c2 = NodeT(lis1[2])\n",
    "                else:\n",
    "                    parent.c2 = None\n",
    "                # node wise check\n",
    "                if parent.c0 != None:    \n",
    "                    parsible0,pos0 = parse(parent.c0,marker)\n",
    "                    if parsible0: \n",
    "                        if parent.c1 != None:\n",
    "                            parsible1,pos1 = parse(parent.c1,pos0)\n",
    "                            if parsible1:\n",
    "                                if parent.c2 != None:\n",
    "                                    parsible2,pos2 = parse(parent.c2,pos1)\n",
    "                                    if parsible2:\n",
    "                                        return True,pos2\n",
    "                                    else:\n",
    "                                        \n",
    "                                        continue\n",
    "                                else:\n",
    "                                    return parsible1,pos1\n",
    "                            else:\n",
    "                                \n",
    "                                continue\n",
    "                        else:\n",
    "                            return parsible0,pos0\n",
    "                    else:\n",
    "                        \n",
    "                        continue\n",
    "                else:\n",
    "                    \n",
    "                    return False,marker\n",
    "            \n",
    "            print(rules[parent.val],',',end=' ')\n",
    "            return False,marker\n",
    "                \n",
    "            \n",
    "        else: # no match and not expandable\n",
    "            \n",
    "            return False,marker\n",
    "                                       "
   ]
  },
  {
   "cell_type": "code",
   "execution_count": 8,
   "id": "491f251c",
   "metadata": {},
   "outputs": [
    {
     "name": "stdout",
     "output_type": "stream",
     "text": [
      "Enter a sentence:\n",
      "the rat ate\n"
     ]
    }
   ],
   "source": [
    "# read sentence \n",
    "\n",
    "s = input(\"Enter a sentence:\\n\").split()\n",
    "\n",
    "start = NodeLL('Nada') # dummy word \n",
    "n = start\n",
    "for w in s:\n",
    "    \n",
    "    n.next = NodeLL(w)\n",
    "    n = n.next\n",
    "    \n",
    "\n",
    "# drop the dummy word\n",
    "start = start.next"
   ]
  },
  {
   "cell_type": "code",
   "execution_count": 11,
   "id": "8a974c46",
   "metadata": {},
   "outputs": [
    {
     "name": "stdout",
     "output_type": "stream",
     "text": [
      "No match for rules: None. All requirements met. \n",
      "The sentence is parsible\n"
     ]
    }
   ],
   "source": [
    "# function call\n",
    "S = NodeT('S')\n",
    "print('No match for rules: ',end=\" \")\n",
    "par,pos = parse(S,start)\n",
    "\n",
    "if par == True:\n",
    "    print('None. All requirements met.')\n",
    "    print('The sentence is parsible')\n",
    "else:\n",
    "    print('\\nThe sentence is not parsible')"
   ]
  },
  {
   "cell_type": "code",
   "execution_count": null,
   "id": "9ec33754",
   "metadata": {},
   "outputs": [],
   "source": []
  }
 ],
 "metadata": {
  "kernelspec": {
   "display_name": "Python 3 (ipykernel)",
   "language": "python",
   "name": "python3"
  },
  "language_info": {
   "codemirror_mode": {
    "name": "ipython",
    "version": 3
   },
   "file_extension": ".py",
   "mimetype": "text/x-python",
   "name": "python",
   "nbconvert_exporter": "python",
   "pygments_lexer": "ipython3",
   "version": "3.9.12"
  }
 },
 "nbformat": 4,
 "nbformat_minor": 5
}
